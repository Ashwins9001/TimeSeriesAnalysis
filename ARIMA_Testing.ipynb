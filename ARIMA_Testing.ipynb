{
  "nbformat": 4,
  "nbformat_minor": 0,
  "metadata": {
    "colab": {
      "name": "ARIMA-Testing.ipynb",
      "provenance": []
    },
    "kernelspec": {
      "name": "python3",
      "display_name": "Python 3"
    },
    "language_info": {
      "name": "python"
    }
  },
  "cells": [
    {
      "cell_type": "markdown",
      "metadata": {
        "id": "ZX-lHgDH1eQG"
      },
      "source": [
        "AutoRegression (AR), Integrated (I), Moving Average (MA) components form ARIMA model. \n",
        "\n",
        "AR part indicates observed valued is dependent on lagged values. \n",
        "\n",
        "MA component indicates relationship exists between current value and linear combination of prior stochastic terms. Each stochastic term is sampled from white noise which is a stationary random process that samples from a normal distribution with mean zero. Note MA in ARIMA isn't the same as the MA filter which smooths out a time series. Each stochastic term from white noise is independent and represents random shocks or error terms in the process (data we cannot account for). \n",
        "\n",
        "I component refers to number of differencing levels required to make series stationary to apply AR, MA.\n",
        "\n",
        "Non-seasonal ARIMA models denoted ARIMA(p, d, q) where p, d, q are non-negative integers. Where p refers to order of AR, d is differencing levels needed, and q is order of MA. \n",
        "\n",
        "ARIMA models are a additivite combination of each component and solving for the parameters of each component allows for forecasting following time point. "
      ]
    },
    {
      "cell_type": "markdown",
      "metadata": {
        "id": "uVrbV5vG-wKG"
      },
      "source": [
        "Denote observed outcomes by O, and the set of parameters that describe some stochastic process by theta. Therefore to compute probability of an event, do: P(O | theta). Meaning given some parameters we can figure out the probability of observing O. \n",
        "\n",
        "However in reality it is the opposite, where we are given observations O and want to estimate the parameters to obtain a model to use for forecasting or prediction. In that case, we want to choose parameters that maximize the likelihood that we get observations O. In other words:\n",
        "\n",
        "L(theta | O) = P(O | theta)\n",
        "\n",
        "By fixing the random variables to distinct values (representing observations), can solve for parameters (theta) through maximum likelihood estimation (MLE). MLE is analagous to the loss function used in machine learning which performs a very similar analysis. \n",
        "\n",
        "General MLE is an optimization problem that aims to produce solution equations that would work for any specifications of the random variables.\n",
        "\n",
        "The same idea applies across both discrete and continuous space, in the continous space however we would use a probability density function, f(O | theta) rather than a distinct probability (due to probability laws involving sets). \n",
        "\n",
        "When evaluating and selecting ARIMA models by grid search, use AIC which measures number of parameters used and MLE to compute, compare many ARIMA models. "
      ]
    },
    {
      "cell_type": "code",
      "metadata": {
        "id": "rlKBz9tj5ubB"
      },
      "source": [
        "import pandas as pd\n",
        "import numpy as np\n",
        "passenger_data = pd.read_csv('/content/airline_passengers.csv', index_col='Month', parse_dates=True)\n",
        "birth_data = pd.read_csv('/content/DailyTotalFemaleBirths.csv', index_col='Date', parse_dates=True)"
      ],
      "execution_count": 1,
      "outputs": []
    },
    {
      "cell_type": "code",
      "metadata": {
        "colab": {
          "base_uri": "https://localhost:8080/"
        },
        "id": "YFIG9BXgAcjD",
        "outputId": "8eb585fb-ca6d-41f5-f06f-75d48dc3f31f"
      },
      "source": [
        "pip install pmdarima"
      ],
      "execution_count": 4,
      "outputs": [
        {
          "output_type": "stream",
          "name": "stdout",
          "text": [
            "Collecting pmdarima\n",
            "  Downloading pmdarima-1.8.2-cp37-cp37m-manylinux1_x86_64.whl (1.5 MB)\n",
            "\u001b[?25l\r\u001b[K     |▎                               | 10 kB 27.4 MB/s eta 0:00:01\r\u001b[K     |▌                               | 20 kB 35.4 MB/s eta 0:00:01\r\u001b[K     |▊                               | 30 kB 39.7 MB/s eta 0:00:01\r\u001b[K     |█                               | 40 kB 29.6 MB/s eta 0:00:01\r\u001b[K     |█▏                              | 51 kB 16.9 MB/s eta 0:00:01\r\u001b[K     |█▍                              | 61 kB 14.8 MB/s eta 0:00:01\r\u001b[K     |█▋                              | 71 kB 13.8 MB/s eta 0:00:01\r\u001b[K     |█▉                              | 81 kB 15.0 MB/s eta 0:00:01\r\u001b[K     |██                              | 92 kB 13.6 MB/s eta 0:00:01\r\u001b[K     |██▎                             | 102 kB 12.4 MB/s eta 0:00:01\r\u001b[K     |██▌                             | 112 kB 12.4 MB/s eta 0:00:01\r\u001b[K     |██▊                             | 122 kB 12.4 MB/s eta 0:00:01\r\u001b[K     |███                             | 133 kB 12.4 MB/s eta 0:00:01\r\u001b[K     |███▏                            | 143 kB 12.4 MB/s eta 0:00:01\r\u001b[K     |███▍                            | 153 kB 12.4 MB/s eta 0:00:01\r\u001b[K     |███▋                            | 163 kB 12.4 MB/s eta 0:00:01\r\u001b[K     |███▉                            | 174 kB 12.4 MB/s eta 0:00:01\r\u001b[K     |████                            | 184 kB 12.4 MB/s eta 0:00:01\r\u001b[K     |████▎                           | 194 kB 12.4 MB/s eta 0:00:01\r\u001b[K     |████▌                           | 204 kB 12.4 MB/s eta 0:00:01\r\u001b[K     |████▊                           | 215 kB 12.4 MB/s eta 0:00:01\r\u001b[K     |█████                           | 225 kB 12.4 MB/s eta 0:00:01\r\u001b[K     |█████▏                          | 235 kB 12.4 MB/s eta 0:00:01\r\u001b[K     |█████▍                          | 245 kB 12.4 MB/s eta 0:00:01\r\u001b[K     |█████▋                          | 256 kB 12.4 MB/s eta 0:00:01\r\u001b[K     |█████▉                          | 266 kB 12.4 MB/s eta 0:00:01\r\u001b[K     |██████                          | 276 kB 12.4 MB/s eta 0:00:01\r\u001b[K     |██████▎                         | 286 kB 12.4 MB/s eta 0:00:01\r\u001b[K     |██████▌                         | 296 kB 12.4 MB/s eta 0:00:01\r\u001b[K     |██████▊                         | 307 kB 12.4 MB/s eta 0:00:01\r\u001b[K     |███████                         | 317 kB 12.4 MB/s eta 0:00:01\r\u001b[K     |███████▏                        | 327 kB 12.4 MB/s eta 0:00:01\r\u001b[K     |███████▍                        | 337 kB 12.4 MB/s eta 0:00:01\r\u001b[K     |███████▋                        | 348 kB 12.4 MB/s eta 0:00:01\r\u001b[K     |███████▉                        | 358 kB 12.4 MB/s eta 0:00:01\r\u001b[K     |████████                        | 368 kB 12.4 MB/s eta 0:00:01\r\u001b[K     |████████▎                       | 378 kB 12.4 MB/s eta 0:00:01\r\u001b[K     |████████▌                       | 389 kB 12.4 MB/s eta 0:00:01\r\u001b[K     |████████▊                       | 399 kB 12.4 MB/s eta 0:00:01\r\u001b[K     |█████████                       | 409 kB 12.4 MB/s eta 0:00:01\r\u001b[K     |█████████▎                      | 419 kB 12.4 MB/s eta 0:00:01\r\u001b[K     |█████████▌                      | 430 kB 12.4 MB/s eta 0:00:01\r\u001b[K     |█████████▊                      | 440 kB 12.4 MB/s eta 0:00:01\r\u001b[K     |██████████                      | 450 kB 12.4 MB/s eta 0:00:01\r\u001b[K     |██████████▏                     | 460 kB 12.4 MB/s eta 0:00:01\r\u001b[K     |██████████▍                     | 471 kB 12.4 MB/s eta 0:00:01\r\u001b[K     |██████████▋                     | 481 kB 12.4 MB/s eta 0:00:01\r\u001b[K     |██████████▉                     | 491 kB 12.4 MB/s eta 0:00:01\r\u001b[K     |███████████                     | 501 kB 12.4 MB/s eta 0:00:01\r\u001b[K     |███████████▎                    | 512 kB 12.4 MB/s eta 0:00:01\r\u001b[K     |███████████▌                    | 522 kB 12.4 MB/s eta 0:00:01\r\u001b[K     |███████████▊                    | 532 kB 12.4 MB/s eta 0:00:01\r\u001b[K     |████████████                    | 542 kB 12.4 MB/s eta 0:00:01\r\u001b[K     |████████████▏                   | 552 kB 12.4 MB/s eta 0:00:01\r\u001b[K     |████████████▍                   | 563 kB 12.4 MB/s eta 0:00:01\r\u001b[K     |████████████▋                   | 573 kB 12.4 MB/s eta 0:00:01\r\u001b[K     |████████████▉                   | 583 kB 12.4 MB/s eta 0:00:01\r\u001b[K     |█████████████                   | 593 kB 12.4 MB/s eta 0:00:01\r\u001b[K     |█████████████▎                  | 604 kB 12.4 MB/s eta 0:00:01\r\u001b[K     |█████████████▌                  | 614 kB 12.4 MB/s eta 0:00:01\r\u001b[K     |█████████████▊                  | 624 kB 12.4 MB/s eta 0:00:01\r\u001b[K     |██████████████                  | 634 kB 12.4 MB/s eta 0:00:01\r\u001b[K     |██████████████▏                 | 645 kB 12.4 MB/s eta 0:00:01\r\u001b[K     |██████████████▍                 | 655 kB 12.4 MB/s eta 0:00:01\r\u001b[K     |██████████████▋                 | 665 kB 12.4 MB/s eta 0:00:01\r\u001b[K     |██████████████▉                 | 675 kB 12.4 MB/s eta 0:00:01\r\u001b[K     |███████████████                 | 686 kB 12.4 MB/s eta 0:00:01\r\u001b[K     |███████████████▎                | 696 kB 12.4 MB/s eta 0:00:01\r\u001b[K     |███████████████▌                | 706 kB 12.4 MB/s eta 0:00:01\r\u001b[K     |███████████████▊                | 716 kB 12.4 MB/s eta 0:00:01\r\u001b[K     |████████████████                | 727 kB 12.4 MB/s eta 0:00:01\r\u001b[K     |████████████████▏               | 737 kB 12.4 MB/s eta 0:00:01\r\u001b[K     |████████████████▍               | 747 kB 12.4 MB/s eta 0:00:01\r\u001b[K     |████████████████▋               | 757 kB 12.4 MB/s eta 0:00:01\r\u001b[K     |████████████████▉               | 768 kB 12.4 MB/s eta 0:00:01\r\u001b[K     |█████████████████               | 778 kB 12.4 MB/s eta 0:00:01\r\u001b[K     |█████████████████▎              | 788 kB 12.4 MB/s eta 0:00:01\r\u001b[K     |█████████████████▌              | 798 kB 12.4 MB/s eta 0:00:01\r\u001b[K     |█████████████████▊              | 808 kB 12.4 MB/s eta 0:00:01\r\u001b[K     |██████████████████              | 819 kB 12.4 MB/s eta 0:00:01\r\u001b[K     |██████████████████▎             | 829 kB 12.4 MB/s eta 0:00:01\r\u001b[K     |██████████████████▌             | 839 kB 12.4 MB/s eta 0:00:01\r\u001b[K     |██████████████████▊             | 849 kB 12.4 MB/s eta 0:00:01\r\u001b[K     |███████████████████             | 860 kB 12.4 MB/s eta 0:00:01\r\u001b[K     |███████████████████▏            | 870 kB 12.4 MB/s eta 0:00:01\r\u001b[K     |███████████████████▍            | 880 kB 12.4 MB/s eta 0:00:01\r\u001b[K     |███████████████████▋            | 890 kB 12.4 MB/s eta 0:00:01\r\u001b[K     |███████████████████▉            | 901 kB 12.4 MB/s eta 0:00:01\r\u001b[K     |████████████████████            | 911 kB 12.4 MB/s eta 0:00:01\r\u001b[K     |████████████████████▎           | 921 kB 12.4 MB/s eta 0:00:01\r\u001b[K     |████████████████████▌           | 931 kB 12.4 MB/s eta 0:00:01\r\u001b[K     |████████████████████▊           | 942 kB 12.4 MB/s eta 0:00:01\r\u001b[K     |█████████████████████           | 952 kB 12.4 MB/s eta 0:00:01\r\u001b[K     |█████████████████████▏          | 962 kB 12.4 MB/s eta 0:00:01\r\u001b[K     |█████████████████████▍          | 972 kB 12.4 MB/s eta 0:00:01\r\u001b[K     |█████████████████████▋          | 983 kB 12.4 MB/s eta 0:00:01\r\u001b[K     |█████████████████████▉          | 993 kB 12.4 MB/s eta 0:00:01\r\u001b[K     |██████████████████████          | 1.0 MB 12.4 MB/s eta 0:00:01\r\u001b[K     |██████████████████████▎         | 1.0 MB 12.4 MB/s eta 0:00:01\r\u001b[K     |██████████████████████▌         | 1.0 MB 12.4 MB/s eta 0:00:01\r\u001b[K     |██████████████████████▊         | 1.0 MB 12.4 MB/s eta 0:00:01\r\u001b[K     |███████████████████████         | 1.0 MB 12.4 MB/s eta 0:00:01\r\u001b[K     |███████████████████████▏        | 1.1 MB 12.4 MB/s eta 0:00:01\r\u001b[K     |███████████████████████▍        | 1.1 MB 12.4 MB/s eta 0:00:01\r\u001b[K     |███████████████████████▋        | 1.1 MB 12.4 MB/s eta 0:00:01\r\u001b[K     |███████████████████████▉        | 1.1 MB 12.4 MB/s eta 0:00:01\r\u001b[K     |████████████████████████        | 1.1 MB 12.4 MB/s eta 0:00:01\r\u001b[K     |████████████████████████▎       | 1.1 MB 12.4 MB/s eta 0:00:01\r\u001b[K     |████████████████████████▌       | 1.1 MB 12.4 MB/s eta 0:00:01\r\u001b[K     |████████████████████████▊       | 1.1 MB 12.4 MB/s eta 0:00:01\r\u001b[K     |█████████████████████████       | 1.1 MB 12.4 MB/s eta 0:00:01\r\u001b[K     |█████████████████████████▏      | 1.1 MB 12.4 MB/s eta 0:00:01\r\u001b[K     |█████████████████████████▍      | 1.2 MB 12.4 MB/s eta 0:00:01\r\u001b[K     |█████████████████████████▋      | 1.2 MB 12.4 MB/s eta 0:00:01\r\u001b[K     |█████████████████████████▉      | 1.2 MB 12.4 MB/s eta 0:00:01\r\u001b[K     |██████████████████████████      | 1.2 MB 12.4 MB/s eta 0:00:01\r\u001b[K     |██████████████████████████▎     | 1.2 MB 12.4 MB/s eta 0:00:01\r\u001b[K     |██████████████████████████▌     | 1.2 MB 12.4 MB/s eta 0:00:01\r\u001b[K     |██████████████████████████▊     | 1.2 MB 12.4 MB/s eta 0:00:01\r\u001b[K     |███████████████████████████     | 1.2 MB 12.4 MB/s eta 0:00:01\r\u001b[K     |███████████████████████████▎    | 1.2 MB 12.4 MB/s eta 0:00:01\r\u001b[K     |███████████████████████████▌    | 1.2 MB 12.4 MB/s eta 0:00:01\r\u001b[K     |███████████████████████████▊    | 1.3 MB 12.4 MB/s eta 0:00:01\r\u001b[K     |████████████████████████████    | 1.3 MB 12.4 MB/s eta 0:00:01\r\u001b[K     |████████████████████████████▏   | 1.3 MB 12.4 MB/s eta 0:00:01\r\u001b[K     |████████████████████████████▍   | 1.3 MB 12.4 MB/s eta 0:00:01\r\u001b[K     |████████████████████████████▋   | 1.3 MB 12.4 MB/s eta 0:00:01\r\u001b[K     |████████████████████████████▉   | 1.3 MB 12.4 MB/s eta 0:00:01\r\u001b[K     |█████████████████████████████   | 1.3 MB 12.4 MB/s eta 0:00:01\r\u001b[K     |█████████████████████████████▎  | 1.3 MB 12.4 MB/s eta 0:00:01\r\u001b[K     |█████████████████████████████▌  | 1.3 MB 12.4 MB/s eta 0:00:01\r\u001b[K     |█████████████████████████████▊  | 1.4 MB 12.4 MB/s eta 0:00:01\r\u001b[K     |██████████████████████████████  | 1.4 MB 12.4 MB/s eta 0:00:01\r\u001b[K     |██████████████████████████████▏ | 1.4 MB 12.4 MB/s eta 0:00:01\r\u001b[K     |██████████████████████████████▍ | 1.4 MB 12.4 MB/s eta 0:00:01\r\u001b[K     |██████████████████████████████▋ | 1.4 MB 12.4 MB/s eta 0:00:01\r\u001b[K     |██████████████████████████████▉ | 1.4 MB 12.4 MB/s eta 0:00:01\r\u001b[K     |███████████████████████████████ | 1.4 MB 12.4 MB/s eta 0:00:01\r\u001b[K     |███████████████████████████████▎| 1.4 MB 12.4 MB/s eta 0:00:01\r\u001b[K     |███████████████████████████████▌| 1.4 MB 12.4 MB/s eta 0:00:01\r\u001b[K     |███████████████████████████████▊| 1.4 MB 12.4 MB/s eta 0:00:01\r\u001b[K     |████████████████████████████████| 1.5 MB 12.4 MB/s eta 0:00:01\r\u001b[K     |████████████████████████████████| 1.5 MB 12.4 MB/s \n",
            "\u001b[?25hRequirement already satisfied: numpy~=1.19.0 in /usr/local/lib/python3.7/dist-packages (from pmdarima) (1.19.5)\n",
            "Collecting statsmodels!=0.12.0,>=0.11\n",
            "  Downloading statsmodels-0.12.2-cp37-cp37m-manylinux1_x86_64.whl (9.5 MB)\n",
            "\u001b[K     |████████████████████████████████| 9.5 MB 55.1 MB/s \n",
            "\u001b[?25hRequirement already satisfied: Cython!=0.29.18,>=0.29 in /usr/local/lib/python3.7/dist-packages (from pmdarima) (0.29.24)\n",
            "Requirement already satisfied: scipy>=1.3.2 in /usr/local/lib/python3.7/dist-packages (from pmdarima) (1.4.1)\n",
            "Requirement already satisfied: joblib>=0.11 in /usr/local/lib/python3.7/dist-packages (from pmdarima) (1.0.1)\n",
            "Requirement already satisfied: setuptools!=50.0.0,>=38.6.0 in /usr/local/lib/python3.7/dist-packages (from pmdarima) (57.4.0)\n",
            "Requirement already satisfied: urllib3 in /usr/local/lib/python3.7/dist-packages (from pmdarima) (1.24.3)\n",
            "Requirement already satisfied: pandas>=0.19 in /usr/local/lib/python3.7/dist-packages (from pmdarima) (1.1.5)\n",
            "Requirement already satisfied: scikit-learn>=0.22 in /usr/local/lib/python3.7/dist-packages (from pmdarima) (0.22.2.post1)\n",
            "Requirement already satisfied: python-dateutil>=2.7.3 in /usr/local/lib/python3.7/dist-packages (from pandas>=0.19->pmdarima) (2.8.2)\n",
            "Requirement already satisfied: pytz>=2017.2 in /usr/local/lib/python3.7/dist-packages (from pandas>=0.19->pmdarima) (2018.9)\n",
            "Requirement already satisfied: six>=1.5 in /usr/local/lib/python3.7/dist-packages (from python-dateutil>=2.7.3->pandas>=0.19->pmdarima) (1.15.0)\n",
            "Requirement already satisfied: patsy>=0.5 in /usr/local/lib/python3.7/dist-packages (from statsmodels!=0.12.0,>=0.11->pmdarima) (0.5.1)\n",
            "Installing collected packages: statsmodels, pmdarima\n",
            "  Attempting uninstall: statsmodels\n",
            "    Found existing installation: statsmodels 0.10.2\n",
            "    Uninstalling statsmodels-0.10.2:\n",
            "      Successfully uninstalled statsmodels-0.10.2\n",
            "Successfully installed pmdarima-1.8.2 statsmodels-0.12.2\n"
          ]
        }
      ]
    },
    {
      "cell_type": "code",
      "metadata": {
        "id": "Rf5CPDsxCRVA"
      },
      "source": [
        "from pmdarima import auto_arima"
      ],
      "execution_count": 5,
      "outputs": []
    },
    {
      "cell_type": "markdown",
      "metadata": {
        "id": "mKKhTaZsDING"
      },
      "source": [
        "Uses AIC for model selection therefore will not check higher order models after a certain point due to diminishing returns on AIC"
      ]
    },
    {
      "cell_type": "code",
      "metadata": {
        "colab": {
          "base_uri": "https://localhost:8080/"
        },
        "id": "86yeTEyoCaQM",
        "outputId": "f2447f72-08e5-4ce8-860d-aade2aba6e26"
      },
      "source": [
        "stepwise_fit = auto_arima(birth_data['Births'], start_p=0, start_q=0,\n",
        "                          max_p=6, max_q=3, seasonal=False, trace=True)"
      ],
      "execution_count": 8,
      "outputs": [
        {
          "output_type": "stream",
          "name": "stdout",
          "text": [
            "Performing stepwise search to minimize aic\n",
            " ARIMA(0,1,0)(0,0,0)[0] intercept   : AIC=2650.760, Time=0.02 sec\n",
            " ARIMA(1,1,0)(0,0,0)[0] intercept   : AIC=2565.234, Time=0.03 sec\n",
            " ARIMA(0,1,1)(0,0,0)[0] intercept   : AIC=2463.584, Time=0.09 sec\n",
            " ARIMA(0,1,0)(0,0,0)[0]             : AIC=2648.768, Time=0.01 sec\n",
            " ARIMA(1,1,1)(0,0,0)[0] intercept   : AIC=2460.154, Time=0.18 sec\n",
            " ARIMA(2,1,1)(0,0,0)[0] intercept   : AIC=2461.271, Time=0.25 sec\n",
            " ARIMA(1,1,2)(0,0,0)[0] intercept   : AIC=inf, Time=0.46 sec\n",
            " ARIMA(0,1,2)(0,0,0)[0] intercept   : AIC=2460.722, Time=0.18 sec\n",
            " ARIMA(2,1,0)(0,0,0)[0] intercept   : AIC=2536.154, Time=0.12 sec\n",
            " ARIMA(2,1,2)(0,0,0)[0] intercept   : AIC=2463.065, Time=0.58 sec\n",
            " ARIMA(1,1,1)(0,0,0)[0]             : AIC=2459.074, Time=0.07 sec\n",
            " ARIMA(0,1,1)(0,0,0)[0]             : AIC=2462.221, Time=0.04 sec\n",
            " ARIMA(1,1,0)(0,0,0)[0]             : AIC=2563.261, Time=0.03 sec\n",
            " ARIMA(2,1,1)(0,0,0)[0]             : AIC=2460.367, Time=0.11 sec\n",
            " ARIMA(1,1,2)(0,0,0)[0]             : AIC=2460.427, Time=0.18 sec\n",
            " ARIMA(0,1,2)(0,0,0)[0]             : AIC=2459.571, Time=0.06 sec\n",
            " ARIMA(2,1,0)(0,0,0)[0]             : AIC=2534.205, Time=0.05 sec\n",
            " ARIMA(2,1,2)(0,0,0)[0]             : AIC=2462.366, Time=0.28 sec\n",
            "\n",
            "Best model:  ARIMA(1,1,1)(0,0,0)[0]          \n",
            "Total fit time: 2.751 seconds\n"
          ]
        }
      ]
    },
    {
      "cell_type": "code",
      "metadata": {
        "colab": {
          "base_uri": "https://localhost:8080/",
          "height": 423
        },
        "id": "_Lx3swhaC6nc",
        "outputId": "2f15e86b-7d00-447b-9d99-bfa201bee8ed"
      },
      "source": [
        "stepwise_fit.summary()"
      ],
      "execution_count": 9,
      "outputs": [
        {
          "output_type": "execute_result",
          "data": {
            "text/html": [
              "<table class=\"simpletable\">\n",
              "<caption>SARIMAX Results</caption>\n",
              "<tr>\n",
              "  <th>Dep. Variable:</th>           <td>y</td>        <th>  No. Observations:  </th>    <td>365</td>   \n",
              "</tr>\n",
              "<tr>\n",
              "  <th>Model:</th>           <td>SARIMAX(1, 1, 1)</td> <th>  Log Likelihood     </th> <td>-1226.537</td>\n",
              "</tr>\n",
              "<tr>\n",
              "  <th>Date:</th>            <td>Tue, 31 Aug 2021</td> <th>  AIC                </th> <td>2459.074</td> \n",
              "</tr>\n",
              "<tr>\n",
              "  <th>Time:</th>                <td>20:13:15</td>     <th>  BIC                </th> <td>2470.766</td> \n",
              "</tr>\n",
              "<tr>\n",
              "  <th>Sample:</th>                  <td>0</td>        <th>  HQIC               </th> <td>2463.721</td> \n",
              "</tr>\n",
              "<tr>\n",
              "  <th></th>                      <td> - 365</td>      <th>                     </th>     <td> </td>    \n",
              "</tr>\n",
              "<tr>\n",
              "  <th>Covariance Type:</th>        <td>opg</td>       <th>                     </th>     <td> </td>    \n",
              "</tr>\n",
              "</table>\n",
              "<table class=\"simpletable\">\n",
              "<tr>\n",
              "     <td></td>       <th>coef</th>     <th>std err</th>      <th>z</th>      <th>P>|z|</th>  <th>[0.025</th>    <th>0.975]</th>  \n",
              "</tr>\n",
              "<tr>\n",
              "  <th>ar.L1</th>  <td>    0.1252</td> <td>    0.060</td> <td>    2.097</td> <td> 0.036</td> <td>    0.008</td> <td>    0.242</td>\n",
              "</tr>\n",
              "<tr>\n",
              "  <th>ma.L1</th>  <td>   -0.9624</td> <td>    0.017</td> <td>  -56.429</td> <td> 0.000</td> <td>   -0.996</td> <td>   -0.929</td>\n",
              "</tr>\n",
              "<tr>\n",
              "  <th>sigma2</th> <td>   49.1512</td> <td>    3.250</td> <td>   15.122</td> <td> 0.000</td> <td>   42.781</td> <td>   55.522</td>\n",
              "</tr>\n",
              "</table>\n",
              "<table class=\"simpletable\">\n",
              "<tr>\n",
              "  <th>Ljung-Box (L1) (Q):</th>     <td>0.04</td> <th>  Jarque-Bera (JB):  </th> <td>25.33</td>\n",
              "</tr>\n",
              "<tr>\n",
              "  <th>Prob(Q):</th>                <td>0.84</td> <th>  Prob(JB):          </th> <td>0.00</td> \n",
              "</tr>\n",
              "<tr>\n",
              "  <th>Heteroskedasticity (H):</th> <td>0.96</td> <th>  Skew:              </th> <td>0.57</td> \n",
              "</tr>\n",
              "<tr>\n",
              "  <th>Prob(H) (two-sided):</th>    <td>0.81</td> <th>  Kurtosis:          </th> <td>3.60</td> \n",
              "</tr>\n",
              "</table><br/><br/>Warnings:<br/>[1] Covariance matrix calculated using the outer product of gradients (complex-step)."
            ],
            "text/plain": [
              "<class 'statsmodels.iolib.summary.Summary'>\n",
              "\"\"\"\n",
              "                               SARIMAX Results                                \n",
              "==============================================================================\n",
              "Dep. Variable:                      y   No. Observations:                  365\n",
              "Model:               SARIMAX(1, 1, 1)   Log Likelihood               -1226.537\n",
              "Date:                Tue, 31 Aug 2021   AIC                           2459.074\n",
              "Time:                        20:13:15   BIC                           2470.766\n",
              "Sample:                             0   HQIC                          2463.721\n",
              "                                - 365                                         \n",
              "Covariance Type:                  opg                                         \n",
              "==============================================================================\n",
              "                 coef    std err          z      P>|z|      [0.025      0.975]\n",
              "------------------------------------------------------------------------------\n",
              "ar.L1          0.1252      0.060      2.097      0.036       0.008       0.242\n",
              "ma.L1         -0.9624      0.017    -56.429      0.000      -0.996      -0.929\n",
              "sigma2        49.1512      3.250     15.122      0.000      42.781      55.522\n",
              "===================================================================================\n",
              "Ljung-Box (L1) (Q):                   0.04   Jarque-Bera (JB):                25.33\n",
              "Prob(Q):                              0.84   Prob(JB):                         0.00\n",
              "Heteroskedasticity (H):               0.96   Skew:                             0.57\n",
              "Prob(H) (two-sided):                  0.81   Kurtosis:                         3.60\n",
              "===================================================================================\n",
              "\n",
              "Warnings:\n",
              "[1] Covariance matrix calculated using the outer product of gradients (complex-step).\n",
              "\"\"\""
            ]
          },
          "metadata": {},
          "execution_count": 9
        }
      ]
    },
    {
      "cell_type": "code",
      "metadata": {
        "colab": {
          "base_uri": "https://localhost:8080/"
        },
        "id": "zZ63xVzAD2DJ",
        "outputId": "9c1d5b4d-ff8e-4649-fb08-c160265da2c5"
      },
      "source": [
        "#m indicates seasonal differencing, yearly data therefore make m=12 \n",
        "\n",
        "stepwise_fit2 = auto_arima(passenger_data['Thousands of Passengers'], start_p=0, start_q=0,\n",
        "                           max_p=4, max_q=4, season=True, trace=True, m=12)"
      ],
      "execution_count": 12,
      "outputs": [
        {
          "output_type": "stream",
          "name": "stdout",
          "text": [
            "Performing stepwise search to minimize aic\n",
            " ARIMA(0,1,0)(1,1,1)[12]             : AIC=1032.128, Time=0.19 sec\n",
            " ARIMA(0,1,0)(0,1,0)[12]             : AIC=1031.508, Time=0.02 sec\n",
            " ARIMA(1,1,0)(1,1,0)[12]             : AIC=1020.393, Time=0.09 sec\n",
            " ARIMA(0,1,1)(0,1,1)[12]             : AIC=1021.003, Time=0.15 sec\n",
            " ARIMA(1,1,0)(0,1,0)[12]             : AIC=1020.393, Time=0.03 sec\n",
            " ARIMA(1,1,0)(2,1,0)[12]             : AIC=1019.239, Time=0.25 sec\n",
            " ARIMA(1,1,0)(2,1,1)[12]             : AIC=inf, Time=1.76 sec\n",
            " ARIMA(1,1,0)(1,1,1)[12]             : AIC=1020.493, Time=0.33 sec\n",
            " ARIMA(0,1,0)(2,1,0)[12]             : AIC=1032.120, Time=0.18 sec\n",
            " ARIMA(2,1,0)(2,1,0)[12]             : AIC=1021.120, Time=0.34 sec\n",
            " ARIMA(1,1,1)(2,1,0)[12]             : AIC=1021.032, Time=0.44 sec\n",
            " ARIMA(0,1,1)(2,1,0)[12]             : AIC=1019.178, Time=0.28 sec\n",
            " ARIMA(0,1,1)(1,1,0)[12]             : AIC=1020.425, Time=0.10 sec\n",
            " ARIMA(0,1,1)(2,1,1)[12]             : AIC=inf, Time=2.04 sec\n",
            " ARIMA(0,1,1)(1,1,1)[12]             : AIC=1020.327, Time=0.39 sec\n",
            " ARIMA(0,1,2)(2,1,0)[12]             : AIC=1021.148, Time=0.30 sec\n",
            " ARIMA(1,1,2)(2,1,0)[12]             : AIC=1022.805, Time=0.55 sec\n",
            " ARIMA(0,1,1)(2,1,0)[12] intercept   : AIC=1021.017, Time=0.52 sec\n",
            "\n",
            "Best model:  ARIMA(0,1,1)(2,1,0)[12]          \n",
            "Total fit time: 8.004 seconds\n"
          ]
        }
      ]
    },
    {
      "cell_type": "code",
      "metadata": {
        "colab": {
          "base_uri": "https://localhost:8080/",
          "height": 444
        },
        "id": "Pgnq1uRDD-mE",
        "outputId": "ea75954a-a334-4c1a-fff5-024bf223a92a"
      },
      "source": [
        "stepwise_fit2.summary()"
      ],
      "execution_count": 13,
      "outputs": [
        {
          "output_type": "execute_result",
          "data": {
            "text/html": [
              "<table class=\"simpletable\">\n",
              "<caption>SARIMAX Results</caption>\n",
              "<tr>\n",
              "  <th>Dep. Variable:</th>                  <td>y</td>                <th>  No. Observations:  </th>    <td>144</td>  \n",
              "</tr>\n",
              "<tr>\n",
              "  <th>Model:</th>           <td>SARIMAX(0, 1, 1)x(2, 1, [], 12)</td> <th>  Log Likelihood     </th> <td>-505.589</td>\n",
              "</tr>\n",
              "<tr>\n",
              "  <th>Date:</th>                   <td>Tue, 31 Aug 2021</td>         <th>  AIC                </th> <td>1019.178</td>\n",
              "</tr>\n",
              "<tr>\n",
              "  <th>Time:</th>                       <td>20:16:36</td>             <th>  BIC                </th> <td>1030.679</td>\n",
              "</tr>\n",
              "<tr>\n",
              "  <th>Sample:</th>                         <td>0</td>                <th>  HQIC               </th> <td>1023.851</td>\n",
              "</tr>\n",
              "<tr>\n",
              "  <th></th>                             <td> - 144</td>              <th>                     </th>     <td> </td>   \n",
              "</tr>\n",
              "<tr>\n",
              "  <th>Covariance Type:</th>               <td>opg</td>               <th>                     </th>     <td> </td>   \n",
              "</tr>\n",
              "</table>\n",
              "<table class=\"simpletable\">\n",
              "<tr>\n",
              "      <td></td>        <th>coef</th>     <th>std err</th>      <th>z</th>      <th>P>|z|</th>  <th>[0.025</th>    <th>0.975]</th>  \n",
              "</tr>\n",
              "<tr>\n",
              "  <th>ma.L1</th>    <td>   -0.3634</td> <td>    0.074</td> <td>   -4.945</td> <td> 0.000</td> <td>   -0.508</td> <td>   -0.219</td>\n",
              "</tr>\n",
              "<tr>\n",
              "  <th>ar.S.L12</th> <td>   -0.1239</td> <td>    0.090</td> <td>   -1.372</td> <td> 0.170</td> <td>   -0.301</td> <td>    0.053</td>\n",
              "</tr>\n",
              "<tr>\n",
              "  <th>ar.S.L24</th> <td>    0.1911</td> <td>    0.107</td> <td>    1.783</td> <td> 0.075</td> <td>   -0.019</td> <td>    0.401</td>\n",
              "</tr>\n",
              "<tr>\n",
              "  <th>sigma2</th>   <td>  130.4480</td> <td>   15.527</td> <td>    8.402</td> <td> 0.000</td> <td>  100.016</td> <td>  160.880</td>\n",
              "</tr>\n",
              "</table>\n",
              "<table class=\"simpletable\">\n",
              "<tr>\n",
              "  <th>Ljung-Box (L1) (Q):</th>     <td>0.01</td> <th>  Jarque-Bera (JB):  </th> <td>4.59</td>\n",
              "</tr>\n",
              "<tr>\n",
              "  <th>Prob(Q):</th>                <td>0.92</td> <th>  Prob(JB):          </th> <td>0.10</td>\n",
              "</tr>\n",
              "<tr>\n",
              "  <th>Heteroskedasticity (H):</th> <td>2.70</td> <th>  Skew:              </th> <td>0.15</td>\n",
              "</tr>\n",
              "<tr>\n",
              "  <th>Prob(H) (two-sided):</th>    <td>0.00</td> <th>  Kurtosis:          </th> <td>3.87</td>\n",
              "</tr>\n",
              "</table><br/><br/>Warnings:<br/>[1] Covariance matrix calculated using the outer product of gradients (complex-step)."
            ],
            "text/plain": [
              "<class 'statsmodels.iolib.summary.Summary'>\n",
              "\"\"\"\n",
              "                                      SARIMAX Results                                      \n",
              "===========================================================================================\n",
              "Dep. Variable:                                   y   No. Observations:                  144\n",
              "Model:             SARIMAX(0, 1, 1)x(2, 1, [], 12)   Log Likelihood                -505.589\n",
              "Date:                             Tue, 31 Aug 2021   AIC                           1019.178\n",
              "Time:                                     20:16:36   BIC                           1030.679\n",
              "Sample:                                          0   HQIC                          1023.851\n",
              "                                             - 144                                         \n",
              "Covariance Type:                               opg                                         \n",
              "==============================================================================\n",
              "                 coef    std err          z      P>|z|      [0.025      0.975]\n",
              "------------------------------------------------------------------------------\n",
              "ma.L1         -0.3634      0.074     -4.945      0.000      -0.508      -0.219\n",
              "ar.S.L12      -0.1239      0.090     -1.372      0.170      -0.301       0.053\n",
              "ar.S.L24       0.1911      0.107      1.783      0.075      -0.019       0.401\n",
              "sigma2       130.4480     15.527      8.402      0.000     100.016     160.880\n",
              "===================================================================================\n",
              "Ljung-Box (L1) (Q):                   0.01   Jarque-Bera (JB):                 4.59\n",
              "Prob(Q):                              0.92   Prob(JB):                         0.10\n",
              "Heteroskedasticity (H):               2.70   Skew:                             0.15\n",
              "Prob(H) (two-sided):                  0.00   Kurtosis:                         3.87\n",
              "===================================================================================\n",
              "\n",
              "Warnings:\n",
              "[1] Covariance matrix calculated using the outer product of gradients (complex-step).\n",
              "\"\"\""
            ]
          },
          "metadata": {},
          "execution_count": 13
        }
      ]
    },
    {
      "cell_type": "code",
      "metadata": {
        "id": "hmHRaEwpEVTL"
      },
      "source": [
        ""
      ],
      "execution_count": null,
      "outputs": []
    }
  ]
}