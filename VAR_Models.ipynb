{
  "nbformat": 4,
  "nbformat_minor": 0,
  "metadata": {
    "colab": {
      "name": "VAR-Models.ipynb",
      "provenance": []
    },
    "kernelspec": {
      "name": "python3",
      "display_name": "Python 3"
    },
    "language_info": {
      "name": "python"
    }
  },
  "cells": [
    {
      "cell_type": "markdown",
      "metadata": {
        "id": "T-axsa91vVt5"
      },
      "source": [
        "Apply Vector AutoRegression (VAR) model to check if two series have an effect on one another. Compare personal consumption expenditures and M2 money stock. VAR models in general describe the dependencies between multiple variables and are particularly used in economics for studying endogenous variables together.  "
      ]
    },
    {
      "cell_type": "code",
      "metadata": {
        "colab": {
          "base_uri": "https://localhost:8080/"
        },
        "id": "SkDbF-lbvUvv",
        "outputId": "1a81daa8-51a5-4afc-9dd5-3a2fc3e5354e"
      },
      "source": [
        "import numpy as np\n",
        "import pandas as pd\n",
        "%matplotlib inline\n",
        "\n",
        "from statsmodels.tsa.api import VAR\n",
        "from statsmodels.tsa.stattools import adfuller\n",
        "from statsmodels.tools.eval_measures import rmse\n",
        "\n",
        "df = pd.read_csv('/content/M2SLMoneyStock.csv', index_col=0, parse_dates=True)\n",
        "sp = pd.read_csv('/content/PCEPersonalSpending.csv', index_col=0, parse_dates=True)\n",
        "\n",
        "df.index.freq='MS'\n",
        "sp.index.freq='MS'"
      ],
      "execution_count": 1,
      "outputs": [
        {
          "output_type": "stream",
          "name": "stderr",
          "text": [
            "/usr/local/lib/python3.7/dist-packages/statsmodels/tools/_testing.py:19: FutureWarning: pandas.util.testing is deprecated. Use the functions in the public API at pandas.testing instead.\n",
            "  import pandas.util.testing as tm\n"
          ]
        }
      ]
    },
    {
      "cell_type": "code",
      "metadata": {
        "colab": {
          "base_uri": "https://localhost:8080/",
          "height": 235
        },
        "id": "0r10ahDsvaUV",
        "outputId": "fd9ede51-a6fb-4baa-ba66-7c5f4699520b"
      },
      "source": [
        "df.head()"
      ],
      "execution_count": 2,
      "outputs": [
        {
          "output_type": "execute_result",
          "data": {
            "text/html": [
              "<div>\n",
              "<style scoped>\n",
              "    .dataframe tbody tr th:only-of-type {\n",
              "        vertical-align: middle;\n",
              "    }\n",
              "\n",
              "    .dataframe tbody tr th {\n",
              "        vertical-align: top;\n",
              "    }\n",
              "\n",
              "    .dataframe thead th {\n",
              "        text-align: right;\n",
              "    }\n",
              "</style>\n",
              "<table border=\"1\" class=\"dataframe\">\n",
              "  <thead>\n",
              "    <tr style=\"text-align: right;\">\n",
              "      <th></th>\n",
              "      <th>Money</th>\n",
              "    </tr>\n",
              "    <tr>\n",
              "      <th>Date</th>\n",
              "      <th></th>\n",
              "    </tr>\n",
              "  </thead>\n",
              "  <tbody>\n",
              "    <tr>\n",
              "      <th>1995-01-01</th>\n",
              "      <td>3492.4</td>\n",
              "    </tr>\n",
              "    <tr>\n",
              "      <th>1995-02-01</th>\n",
              "      <td>3489.9</td>\n",
              "    </tr>\n",
              "    <tr>\n",
              "      <th>1995-03-01</th>\n",
              "      <td>3491.1</td>\n",
              "    </tr>\n",
              "    <tr>\n",
              "      <th>1995-04-01</th>\n",
              "      <td>3499.2</td>\n",
              "    </tr>\n",
              "    <tr>\n",
              "      <th>1995-05-01</th>\n",
              "      <td>3524.2</td>\n",
              "    </tr>\n",
              "  </tbody>\n",
              "</table>\n",
              "</div>"
            ],
            "text/plain": [
              "             Money\n",
              "Date              \n",
              "1995-01-01  3492.4\n",
              "1995-02-01  3489.9\n",
              "1995-03-01  3491.1\n",
              "1995-04-01  3499.2\n",
              "1995-05-01  3524.2"
            ]
          },
          "metadata": {},
          "execution_count": 2
        }
      ]
    },
    {
      "cell_type": "code",
      "metadata": {
        "colab": {
          "base_uri": "https://localhost:8080/",
          "height": 235
        },
        "id": "3YsYm80uxfr1",
        "outputId": "faced1a8-7749-4b8e-bbc2-56fda771b361"
      },
      "source": [
        "sp.head()"
      ],
      "execution_count": 3,
      "outputs": [
        {
          "output_type": "execute_result",
          "data": {
            "text/html": [
              "<div>\n",
              "<style scoped>\n",
              "    .dataframe tbody tr th:only-of-type {\n",
              "        vertical-align: middle;\n",
              "    }\n",
              "\n",
              "    .dataframe tbody tr th {\n",
              "        vertical-align: top;\n",
              "    }\n",
              "\n",
              "    .dataframe thead th {\n",
              "        text-align: right;\n",
              "    }\n",
              "</style>\n",
              "<table border=\"1\" class=\"dataframe\">\n",
              "  <thead>\n",
              "    <tr style=\"text-align: right;\">\n",
              "      <th></th>\n",
              "      <th>Spending</th>\n",
              "    </tr>\n",
              "    <tr>\n",
              "      <th>Date</th>\n",
              "      <th></th>\n",
              "    </tr>\n",
              "  </thead>\n",
              "  <tbody>\n",
              "    <tr>\n",
              "      <th>1995-01-01</th>\n",
              "      <td>4851.2</td>\n",
              "    </tr>\n",
              "    <tr>\n",
              "      <th>1995-02-01</th>\n",
              "      <td>4850.8</td>\n",
              "    </tr>\n",
              "    <tr>\n",
              "      <th>1995-03-01</th>\n",
              "      <td>4885.4</td>\n",
              "    </tr>\n",
              "    <tr>\n",
              "      <th>1995-04-01</th>\n",
              "      <td>4890.2</td>\n",
              "    </tr>\n",
              "    <tr>\n",
              "      <th>1995-05-01</th>\n",
              "      <td>4933.1</td>\n",
              "    </tr>\n",
              "  </tbody>\n",
              "</table>\n",
              "</div>"
            ],
            "text/plain": [
              "            Spending\n",
              "Date                \n",
              "1995-01-01    4851.2\n",
              "1995-02-01    4850.8\n",
              "1995-03-01    4885.4\n",
              "1995-04-01    4890.2\n",
              "1995-05-01    4933.1"
            ]
          },
          "metadata": {},
          "execution_count": 3
        }
      ]
    },
    {
      "cell_type": "code",
      "metadata": {
        "id": "hqP0TNARxgLR"
      },
      "source": [
        "df = df.join(sp)"
      ],
      "execution_count": 4,
      "outputs": []
    },
    {
      "cell_type": "code",
      "metadata": {
        "colab": {
          "base_uri": "https://localhost:8080/",
          "height": 514
        },
        "id": "S8KRKqGSxkNT",
        "outputId": "ebeafe6f-19a3-451a-c798-f5039bf5b3a2"
      },
      "source": [
        "df.plot(figsize=(12, 8))"
      ],
      "execution_count": 6,
      "outputs": [
        {
          "output_type": "execute_result",
          "data": {
            "text/plain": [
              "<matplotlib.axes._subplots.AxesSubplot at 0x7f0faadebd10>"
            ]
          },
          "metadata": {},
          "execution_count": 6
        },
        {
          "output_type": "display_data",
          "data": {
            "image/png": "[encoded data removed]",
            "text/plain": [
              "<Figure size 864x576 with 1 Axes>"
            ]
          },
          "metadata": {
            "needs_background": "light"
          }
        }
      ]
    },
    {
      "cell_type": "code",
      "metadata": {
        "id": "Lm1r3_3UxzmQ"
      },
      "source": [
        "def adf_test(series, title=''):\n",
        "  print(f'ADF: {title}')\n",
        "  result = adfuller(series.dropna(), autolag='AIC')\n",
        "  labels = ['ADF Test Statistic', 'p-value', '# Lags Used', '# Observations']\n",
        "  out = pd.Series(result[0:4], index=labels)\n",
        "\n",
        "  for key, val in result[4].items():\n",
        "    out[f'critical value ({key})'] = val\n",
        "  \n",
        "  print(out.to_string())\n",
        "\n",
        "  if result[1] <= 0.05:\n",
        "    print('Reject null hypothesis since data has no unit root and is stationary')\n",
        "  else:\n",
        "    print('Failed to reject the null hypothesis since data has unit root and is non-stationary')"
      ],
      "execution_count": 7,
      "outputs": []
    },
    {
      "cell_type": "markdown",
      "metadata": {
        "id": "ceg8u0ErzOxZ"
      },
      "source": [
        "Check for stationarity, ensure both series have same differencing if needed incase of non-stationarity"
      ]
    },
    {
      "cell_type": "code",
      "metadata": {
        "colab": {
          "base_uri": "https://localhost:8080/"
        },
        "id": "hzWBx5icygai",
        "outputId": "57caa880-69cd-4246-c4b0-34e5e70b9f5a"
      },
      "source": [
        "adf_test(df['Money'])"
      ],
      "execution_count": 8,
      "outputs": [
        {
          "output_type": "stream",
          "name": "stdout",
          "text": [
            "ADF: \n",
            "ADF Test Statistic        4.239022\n",
            "p-value                   1.000000\n",
            "# Lags Used               4.000000\n",
            "# Observations          247.000000\n",
            "critical value (1%)      -3.457105\n",
            "critical value (5%)      -2.873314\n",
            "critical value (10%)     -2.573044\n",
            "Failed to reject the null hypothesis since data has unit root and is non-stationary\n"
          ]
        }
      ]
    },
    {
      "cell_type": "code",
      "metadata": {
        "colab": {
          "base_uri": "https://localhost:8080/"
        },
        "id": "WilBoal0ymE3",
        "outputId": "c346417b-dc2c-454b-f708-6e672ef6f7e8"
      },
      "source": [
        "adf_test(df['Spending'])"
      ],
      "execution_count": 9,
      "outputs": [
        {
          "output_type": "stream",
          "name": "stdout",
          "text": [
            "ADF: \n",
            "ADF Test Statistic        0.149796\n",
            "p-value                   0.969301\n",
            "# Lags Used               3.000000\n",
            "# Observations          248.000000\n",
            "critical value (1%)      -3.456996\n",
            "critical value (5%)      -2.873266\n",
            "critical value (10%)     -2.573019\n",
            "Failed to reject the null hypothesis since data has unit root and is non-stationary\n"
          ]
        }
      ]
    },
    {
      "cell_type": "code",
      "metadata": {
        "id": "g0KE3_ISynmz"
      },
      "source": [
        "df_transformed = df.diff()"
      ],
      "execution_count": 10,
      "outputs": []
    },
    {
      "cell_type": "code",
      "metadata": {
        "colab": {
          "base_uri": "https://localhost:8080/"
        },
        "id": "vjzYm_fnyx_N",
        "outputId": "587c62d5-d4f7-4101-dda4-16b76d2e4c9d"
      },
      "source": [
        "adf_test(df_transformed['Money'])"
      ],
      "execution_count": 11,
      "outputs": [
        {
          "output_type": "stream",
          "name": "stdout",
          "text": [
            "ADF: \n",
            "ADF Test Statistic       -2.057404\n",
            "p-value                   0.261984\n",
            "# Lags Used              15.000000\n",
            "# Observations          235.000000\n",
            "critical value (1%)      -3.458487\n",
            "critical value (5%)      -2.873919\n",
            "critical value (10%)     -2.573367\n",
            "Failed to reject the null hypothesis since data has unit root and is non-stationary\n"
          ]
        }
      ]
    },
    {
      "cell_type": "code",
      "metadata": {
        "colab": {
          "base_uri": "https://localhost:8080/"
        },
        "id": "tDbXRxhhy6Tj",
        "outputId": "907f9c74-915b-4a6e-a276-8ecb1a4a6cba"
      },
      "source": [
        "adf_test(df_transformed['Spending'])"
      ],
      "execution_count": 12,
      "outputs": [
        {
          "output_type": "stream",
          "name": "stdout",
          "text": [
            "ADF: \n",
            "ADF Test Statistic     -7.226974e+00\n",
            "p-value                 2.041027e-10\n",
            "# Lags Used             2.000000e+00\n",
            "# Observations          2.480000e+02\n",
            "critical value (1%)    -3.456996e+00\n",
            "critical value (5%)    -2.873266e+00\n",
            "critical value (10%)   -2.573019e+00\n",
            "Reject null hypothesis since data has no unit root and is stationary\n"
          ]
        }
      ]
    },
    {
      "cell_type": "code",
      "metadata": {
        "id": "qLVG_IoMzIYs"
      },
      "source": [
        "df_transformed = df_transformed.diff().dropna()"
      ],
      "execution_count": 13,
      "outputs": []
    },
    {
      "cell_type": "code",
      "metadata": {
        "colab": {
          "base_uri": "https://localhost:8080/"
        },
        "id": "8CDFYR5ZzYrS",
        "outputId": "1f0e1148-447b-4ace-8f33-187f0b5443ad"
      },
      "source": [
        "adf_test(df_transformed['Money'])"
      ],
      "execution_count": 14,
      "outputs": [
        {
          "output_type": "stream",
          "name": "stdout",
          "text": [
            "ADF: \n",
            "ADF Test Statistic     -7.077471e+00\n",
            "p-value                 4.760675e-10\n",
            "# Lags Used             1.400000e+01\n",
            "# Observations          2.350000e+02\n",
            "critical value (1%)    -3.458487e+00\n",
            "critical value (5%)    -2.873919e+00\n",
            "critical value (10%)   -2.573367e+00\n",
            "Reject null hypothesis since data has no unit root and is stationary\n"
          ]
        }
      ]
    },
    {
      "cell_type": "code",
      "metadata": {
        "colab": {
          "base_uri": "https://localhost:8080/"
        },
        "id": "54gbgx-szanc",
        "outputId": "7a067089-1d99-4299-e3cd-1acb8c3517d0"
      },
      "source": [
        "adf_test(df_transformed['Spending'])"
      ],
      "execution_count": 15,
      "outputs": [
        {
          "output_type": "stream",
          "name": "stdout",
          "text": [
            "ADF: \n",
            "ADF Test Statistic     -8.760145e+00\n",
            "p-value                 2.687900e-14\n",
            "# Lags Used             8.000000e+00\n",
            "# Observations          2.410000e+02\n",
            "critical value (1%)    -3.457779e+00\n",
            "critical value (5%)    -2.873609e+00\n",
            "critical value (10%)   -2.573202e+00\n",
            "Reject null hypothesis since data has no unit root and is stationary\n"
          ]
        }
      ]
    },
    {
      "cell_type": "markdown",
      "metadata": {
        "id": "fvNcE5nEzdKv"
      },
      "source": [
        "Based on ADF, use order two differencing for dataset"
      ]
    },
    {
      "cell_type": "code",
      "metadata": {
        "id": "Fc7p0G2czcFX"
      },
      "source": [
        "# Number of observations\n",
        "nobs = 12"
      ],
      "execution_count": 16,
      "outputs": []
    },
    {
      "cell_type": "code",
      "metadata": {
        "id": "ivvcYDjmzgrl"
      },
      "source": [
        "train = df_transformed[:-nobs]\n",
        "test = df_transformed[-nobs:]"
      ],
      "execution_count": 17,
      "outputs": []
    },
    {
      "cell_type": "markdown",
      "metadata": {
        "id": "OnZf89qs0jqY"
      },
      "source": [
        "Perform grid search to compute AR order of VAR model"
      ]
    },
    {
      "cell_type": "code",
      "metadata": {
        "colab": {
          "base_uri": "https://localhost:8080/"
        },
        "id": "8s5R4ez70iuj",
        "outputId": "e1129dab-19e5-4608-bfec-c3cd37974c4f"
      },
      "source": [
        "model = VAR(train)\n",
        "\n",
        "for p in range(8):\n",
        "  results = model.fit(p)\n",
        "  print(f'ORDER {p}')\n",
        "  print(f'AIC: {results.aic}')"
      ],
      "execution_count": 20,
      "outputs": [
        {
          "output_type": "stream",
          "name": "stdout",
          "text": [
            "ORDER 0\n",
            "AIC: 14.74710921809045\n",
            "ORDER 1\n",
            "AIC: 14.178610495220896\n",
            "ORDER 2\n",
            "AIC: 13.955189367163705\n",
            "ORDER 3\n",
            "AIC: 13.849518291541038\n",
            "ORDER 4\n",
            "AIC: 13.827950574458281\n",
            "ORDER 5\n",
            "AIC: 13.78730034460964\n",
            "ORDER 6\n",
            "AIC: 13.799076756885809\n",
            "ORDER 7\n",
            "AIC: 13.797638727913972\n"
          ]
        }
      ]
    },
    {
      "cell_type": "code",
      "metadata": {
        "id": "b-Ow7cUp0mCU"
      },
      "source": [
        ""
      ],
      "execution_count": null,
      "outputs": []
    }
  ]
}